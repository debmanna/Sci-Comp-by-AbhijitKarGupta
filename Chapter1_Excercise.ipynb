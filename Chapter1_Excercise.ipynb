{
 "cells": [
  {
   "cell_type": "markdown",
   "id": "670436d9",
   "metadata": {},
   "source": [
    "## Chapter 1"
   ]
  },
  {
   "cell_type": "code",
   "execution_count": 1,
   "id": "9c2e2e21",
   "metadata": {},
   "outputs": [
    {
     "name": "stdout",
     "output_type": "stream",
     "text": [
      "<class 'float'> <class 'float'> <class 'float'> <class 'complex'> <class 'str'>\n"
     ]
    }
   ],
   "source": [
    "# Question1\n",
    "\n",
    "print(type(346.89),type(14/5),type(20/3.0),type(2*(3+6j)),type('12345'))"
   ]
  },
  {
   "cell_type": "code",
   "execution_count": null,
   "id": "fd791b06",
   "metadata": {},
   "outputs": [],
   "source": [
    "# Question2\n"
   ]
  },
  {
   "cell_type": "code",
   "execution_count": 10,
   "id": "04657cf0",
   "metadata": {},
   "outputs": [
    {
     "name": "stdout",
     "output_type": "stream",
     "text": [
      "-1.4285714285714286 <class 'float'>\n"
     ]
    }
   ],
   "source": [
    "# Question3\n",
    "\n",
    "x=5; y=9;\n",
    "\n",
    "z=x*(x-y)/(x+y)\n",
    "\n",
    "print(z,type(z))"
   ]
  },
  {
   "cell_type": "code",
   "execution_count": 19,
   "id": "89db86a4",
   "metadata": {},
   "outputs": [
    {
     "name": "stdout",
     "output_type": "stream",
     "text": [
      "Hello Friends ! \n",
      " I learnt Python \n",
      " Thats why I feel Good \n"
     ]
    }
   ],
   "source": [
    "# Question4\n",
    "\n",
    "x = \"Hello Friends !\"\n",
    "y = \"Thats why I feel Good \"\n",
    "z = \"I learnt Python\"\n",
    "\n",
    "print(x,z,y)"
   ]
  },
  {
   "cell_type": "code",
   "execution_count": 29,
   "id": "9e6be177",
   "metadata": {},
   "outputs": [
    {
     "name": "stdout",
     "output_type": "stream",
     "text": [
      "(3.5+1.8j) (3.5-1.8j)\n",
      "The Absolute value of  (3.5+1.8j)  is:  15.49\n"
     ]
    }
   ],
   "source": [
    "# Question5\n",
    "\n",
    "z=complex(3.5,1.8)\n",
    "z_bar = z.conjugate()\n",
    "\n",
    "print(z, z_bar)\n",
    "abs_valueZ = z*z_bar\n",
    "\n",
    "print(\"The Absolute value of \",z,\" is: \",abs_valueZ.real)\n"
   ]
  },
  {
   "cell_type": "code",
   "execution_count": 32,
   "id": "c3520bdb",
   "metadata": {},
   "outputs": [
    {
     "name": "stdout",
     "output_type": "stream",
     "text": [
      "|3*z1-4*z2| =  18.027756377319946\n"
     ]
    }
   ],
   "source": [
    "#Question6\n",
    "\n",
    "z1 = 2+3j; z2 = 3-2j\n",
    "\n",
    "print(\"|3*z1-4*z2| = \",abs(3*z1-4*z2))"
   ]
  },
  {
   "cell_type": "code",
   "execution_count": 36,
   "id": "73578c7f",
   "metadata": {},
   "outputs": [
    {
     "data": {
      "text/plain": [
       "complex"
      ]
     },
     "execution_count": 36,
     "metadata": {},
     "output_type": "execute_result"
    }
   ],
   "source": [
    "# Question7\n",
    "\n",
    "type(34*-56.98*5+2j)"
   ]
  },
  {
   "cell_type": "code",
   "execution_count": 50,
   "id": "e2aeae0f",
   "metadata": {},
   "outputs": [
    {
     "name": "stdout",
     "output_type": "stream",
     "text": [
      "LHS = 1.000000 and RHS = 1.000000\n",
      "LHS = 0.283662 and RHS = 0.283662\n",
      "LHS = -0.839072 and RHS = -0.839072\n",
      "LHS = -0.759688 and RHS = -0.759688\n"
     ]
    }
   ],
   "source": [
    "# Question8\n",
    "\n",
    "import math as ma\n",
    "\n",
    "#theta in radian\n",
    "\n",
    "for theta in range(0,4):\n",
    "    LHS = ma.cos(5*theta)\n",
    "    RHS = 16*(ma.cos(theta))**5 - 20*(ma.cos(theta))**3 + 5*(ma.cos(theta))\n",
    "    print(\"LHS = {0:0.6f} and RHS = {1:0.6f}\".format(LHS,RHS))\n"
   ]
  },
  {
   "cell_type": "code",
   "execution_count": 1,
   "id": "152b53d2",
   "metadata": {},
   "outputs": [
    {
     "name": "stdout",
     "output_type": "stream",
     "text": [
      "(2, 3, 5) (9, 0, -1)\n"
     ]
    },
    {
     "data": {
      "text/plain": [
       "9.695359714832659"
      ]
     },
     "execution_count": 1,
     "metadata": {},
     "output_type": "execute_result"
    }
   ],
   "source": [
    "# Question9\n",
    "\n",
    "import math as ma\n",
    "\n",
    "p1 = (2,3,5)\n",
    "p2 = (9,0,-1)\n",
    "\n",
    "print(p1,p2)\n",
    "\n",
    "ma.dist(p2,p1)"
   ]
  },
  {
   "cell_type": "code",
   "execution_count": 7,
   "id": "996aea36",
   "metadata": {},
   "outputs": [
    {
     "name": "stdout",
     "output_type": "stream",
     "text": [
      "['__breakpointhook__', '__displayhook__', '__doc__', '__excepthook__', '__interactivehook__', '__loader__', '__name__', '__package__', '__spec__', '__stderr__', '__stdin__', '__stdout__', '__unraisablehook__', '_base_executable', '_clear_type_cache', '_current_frames', '_debugmallocstats', '_framework', '_getframe', '_git', '_home', '_xoptions', 'abiflags', 'addaudithook', 'api_version', 'argv', 'audit', 'base_exec_prefix', 'base_prefix', 'breakpointhook', 'builtin_module_names', 'byteorder', 'call_tracing', 'copyright', 'displayhook', 'dont_write_bytecode', 'exc_info', 'excepthook', 'exec_prefix', 'executable', 'exit', 'flags', 'float_info', 'float_repr_style', 'get_asyncgen_hooks', 'get_coroutine_origin_tracking_depth', 'getallocatedblocks', 'getdefaultencoding', 'getdlopenflags', 'getfilesystemencodeerrors', 'getfilesystemencoding', 'getprofile', 'getrecursionlimit', 'getrefcount', 'getsizeof', 'getswitchinterval', 'gettrace', 'hash_info', 'hexversion', 'implementation', 'int_info', 'intern', 'is_finalizing', 'maxsize', 'maxunicode', 'meta_path', 'modules', 'path', 'path_hooks', 'path_importer_cache', 'platform', 'platlibdir', 'prefix', 'ps1', 'ps2', 'ps3', 'pycache_prefix', 'set_asyncgen_hooks', 'set_coroutine_origin_tracking_depth', 'setdlopenflags', 'setprofile', 'setrecursionlimit', 'setswitchinterval', 'settrace', 'stderr', 'stdin', 'stdout', 'thread_info', 'unraisablehook', 'version', 'version_info', 'warnoptions']\n",
      "3.9.12 (main, Apr  5 2022, 06:56:58) \n",
      "[GCC 7.5.0]\n",
      "sys.version_info(major=3, minor=9, micro=12, releaselevel='final', serial=0)\n"
     ]
    }
   ],
   "source": [
    "# Question10\n",
    "\n",
    "import sys\n",
    "\n",
    "print(dir(sys))\n",
    "\n",
    "print(sys.version)\n",
    "print(sys.version_info)"
   ]
  },
  {
   "cell_type": "code",
   "execution_count": 8,
   "id": "c3570912",
   "metadata": {},
   "outputs": [
    {
     "name": "stdout",
     "output_type": "stream",
     "text": [
      "     March 2021\n",
      "Mo Tu We Th Fr Sa Su\n",
      " 1  2  3  4  5  6  7\n",
      " 8  9 10 11 12 13 14\n",
      "15 16 17 18 19 20 21\n",
      "22 23 24 25 26 27 28\n",
      "29 30 31\n",
      "\n"
     ]
    }
   ],
   "source": [
    "# Question11\n",
    "\n",
    "import calendar\n",
    "\n",
    "print(calendar.month(2021,3))"
   ]
  },
  {
   "cell_type": "code",
   "execution_count": 12,
   "id": "26964187",
   "metadata": {},
   "outputs": [
    {
     "name": "stdout",
     "output_type": "stream",
     "text": [
      "The BINARY representation of 5983 : 0b1011101011111\n",
      "The HEXADECIMAL representation of 5983 : 0x175f\n",
      "The OCTAL representation of 5983 : 0o13537\n"
     ]
    }
   ],
   "source": [
    "# Question12\n",
    "\n",
    "x = 5983\n",
    "\n",
    "print(\"The BINARY representation of\",x,\":\",bin(x))\n",
    "print(\"The HEXADECIMAL representation of\",x,\":\",hex(x))\n",
    "print(\"The OCTAL representation of\",x,\":\",oct(x))"
   ]
  },
  {
   "cell_type": "code",
   "execution_count": 18,
   "id": "34f656da",
   "metadata": {},
   "outputs": [
    {
     "name": "stdout",
     "output_type": "stream",
     "text": [
      "-34 71.9\n"
     ]
    }
   ],
   "source": [
    "# Question13\n",
    "\n",
    "import math as ma\n",
    "\n",
    "li = [-1,2,10,13,3.5,71.9,23,-34,0,0.98,11.3,10]\n",
    "\n",
    "print(min(li),max(li))"
   ]
  },
  {
   "cell_type": "code",
   "execution_count": 24,
   "id": "85d903a3",
   "metadata": {},
   "outputs": [
    {
     "name": "stdout",
     "output_type": "stream",
     "text": [
      "[2.25177930349384, 0.8542300666104397, 0.4151857263854849, 1.0047818109669853, -0.044201152964357115]\n"
     ]
    }
   ],
   "source": [
    "# Question14\n",
    "\n",
    "import random as ra\n",
    "\n",
    "Mean = 0.5\n",
    "StdDev = 1\n",
    "\n",
    "print([ra.normalvariate(Mean,StdDev) for i in range(5)])"
   ]
  },
  {
   "cell_type": "code",
   "execution_count": 93,
   "id": "32f4a3c8",
   "metadata": {},
   "outputs": [
    {
     "name": "stdout",
     "output_type": "stream",
     "text": [
      "[1.88943, 2.16779, 1.10571]\n",
      "1.72098\n"
     ]
    }
   ],
   "source": [
    "# Question15\n",
    "\n",
    "import random\n",
    "import numpy as np\n",
    "\n",
    "a = 1\n",
    "b = 3\n",
    "\n",
    "li = [random.uniform(a,b) for i in range(3)]\n",
    "\n",
    "print([round(x,5) for x in li])\n",
    "\n",
    "print(round(np.mean(li),5))"
   ]
  },
  {
   "cell_type": "code",
   "execution_count": 98,
   "id": "353fa036",
   "metadata": {},
   "outputs": [
    {
     "name": "stdout",
     "output_type": "stream",
     "text": [
      "[3, 5, 7, 9, 11, 13, 15, 17]\n"
     ]
    }
   ],
   "source": [
    "# Question16\n",
    "\n",
    "print(list(range(3,19,2)))"
   ]
  },
  {
   "cell_type": "code",
   "execution_count": 100,
   "id": "c7eb7b3e",
   "metadata": {},
   "outputs": [
    {
     "name": "stdout",
     "output_type": "stream",
     "text": [
      "area  =  50\n"
     ]
    }
   ],
   "source": [
    "# Question17\n",
    "\n",
    "print(\"area  = \",50)"
   ]
  },
  {
   "cell_type": "code",
   "execution_count": 106,
   "id": "0065a859",
   "metadata": {},
   "outputs": [
    {
     "name": "stdout",
     "output_type": "stream",
     "text": [
      "ENTER the 1st Number: 1\n",
      "ENTER the 2nd Number: 2\n",
      "ENTER the 3rd Number: 3\n",
      "MEAN of the three Number:  2.0\n"
     ]
    }
   ],
   "source": [
    "# Question18\n",
    "\n",
    "a = int(input(\"ENTER the 1st Number: \"))\n",
    "b = int(input(\"ENTER the 2nd Number: \"))\n",
    "c = int(input(\"ENTER the 3rd Number: \"))\n",
    "\n",
    "print(\"MEAN of the three Number: \", (a+b+c)/3)\n"
   ]
  },
  {
   "cell_type": "code",
   "execution_count": 112,
   "id": "8fa845b1",
   "metadata": {},
   "outputs": [
    {
     "name": "stdout",
     "output_type": "stream",
     "text": [
      "5.30000E-05\n"
     ]
    }
   ],
   "source": [
    "# Question19\n",
    "print(\"{:.5E}\".format(0.000053))"
   ]
  },
  {
   "cell_type": "code",
   "execution_count": 116,
   "id": "73a7b5d3",
   "metadata": {},
   "outputs": [
    {
     "name": "stdout",
     "output_type": "stream",
     "text": [
      "1.6180339887\n"
     ]
    }
   ],
   "source": [
    "# Question20\n",
    "import math as ma\n",
    "\n",
    "print(\"{:0.10f}\".format((ma.sqrt(5)+1)/2))"
   ]
  },
  {
   "cell_type": "code",
   "execution_count": 117,
   "id": "e58f2192",
   "metadata": {},
   "outputs": [
    {
     "name": "stdout",
     "output_type": "stream",
     "text": [
      "2.718 3.142 26.832541752\n"
     ]
    }
   ],
   "source": [
    "# Question21\n",
    "\n",
    "a = ma.e\n",
    "b = ma.pi\n",
    "\n",
    "a = round(a,3)\n",
    "b = round(b,3)\n",
    "\n",
    "print(a,b,a*b*b)"
   ]
  },
  {
   "cell_type": "code",
   "execution_count": 121,
   "id": "49877f89",
   "metadata": {},
   "outputs": [
    {
     "name": "stdout",
     "output_type": "stream",
     "text": [
      "(-1+1.2246467991473532e-16j)\n"
     ]
    }
   ],
   "source": [
    "# Question22\n",
    "\n",
    "import cmath as cma\n",
    "\n",
    "print(ma.e**(j*ma.pi))"
   ]
  },
  {
   "cell_type": "code",
   "execution_count": 122,
   "id": "72bedbd0",
   "metadata": {},
   "outputs": [
    {
     "data": {
      "text/plain": [
       "'Linux'"
      ]
     },
     "execution_count": 122,
     "metadata": {},
     "output_type": "execute_result"
    }
   ],
   "source": [
    "# Question23\n",
    "\n",
    "import platform\n",
    "\n",
    "platform.system()"
   ]
  },
  {
   "cell_type": "code",
   "execution_count": 124,
   "id": "d86cc142",
   "metadata": {},
   "outputs": [
    {
     "name": "stdout",
     "output_type": "stream",
     "text": [
      "0.7853981633974483\n"
     ]
    }
   ],
   "source": [
    "# Question24\n",
    "\n",
    "import math as ma\n",
    "\n",
    "side = 5\n",
    "\n",
    "AreaOfSquare = side**2\n",
    "AreaOfCircle = ma.pi*(side/2)**2\n",
    "\n",
    "print(AreaOfCircle/AreaOfSquare)"
   ]
  },
  {
   "cell_type": "code",
   "execution_count": 130,
   "id": "9cd02e53",
   "metadata": {},
   "outputs": [
    {
     "name": "stdout",
     "output_type": "stream",
     "text": [
      "THE Random Sample of Size 5: [-0.3, -0.4, 0.2, -0.1, 0.6]\n",
      "THE maximum value in [-0.3, -0.4, 0.2, -0.1, 0.6] is 0.6\n"
     ]
    }
   ],
   "source": [
    "# Question25\n",
    "\n",
    "import random\n",
    "\n",
    "li = [0.2,0.4,0.9,0.1,-0.3,-0.4,0.6,0.4,-0.5,-0.1]\n",
    "x = random.sample(li,5)\n",
    "\n",
    "print(\"THE Random Sample of Size 5:\",x)\n",
    "print(\"THE maximum value in\",x,\"is\",max(x))"
   ]
  },
  {
   "cell_type": "code",
   "execution_count": 138,
   "id": "d6008f8a",
   "metadata": {},
   "outputs": [
    {
     "name": "stdout",
     "output_type": "stream",
     "text": [
      "363.73937555556347 360.51701859880916\n"
     ]
    }
   ],
   "source": [
    "# Question26\n",
    "\n",
    "import math as ma\n",
    "\n",
    "LHS = ma.log(ma.factorial(100))\n",
    "RHS = 100*ma.log(100)-100\n",
    "\n",
    "print(LHS,RHS)"
   ]
  },
  {
   "cell_type": "code",
   "execution_count": 139,
   "id": "a16c9a5c",
   "metadata": {},
   "outputs": [
    {
     "name": "stdout",
     "output_type": "stream",
     "text": [
      "35.0\n"
     ]
    }
   ],
   "source": [
    "# Question27\n",
    "\n",
    "import math as ma\n",
    "\n",
    "N = 7\n",
    "n = 3\n",
    "\n",
    "print(ma.factorial(N)/(ma.factorial(N-n)*ma.factorial(n)))"
   ]
  },
  {
   "cell_type": "code",
   "execution_count": 142,
   "id": "5f0c8f97",
   "metadata": {},
   "outputs": [
    {
     "name": "stdout",
     "output_type": "stream",
     "text": [
      "4.0107809335358455 4.0107809335358455\n"
     ]
    }
   ],
   "source": [
    "# Question28\n",
    "\n",
    "import math as ma\n",
    "\n",
    "alpha = 42 #angle in degrees\n",
    "beta = 34  #angle in degrees\n",
    "\n",
    "a = ma.radians(alpha)\n",
    "b = ma.radians(beta)\n",
    "\n",
    "LHS = ma.tan(a+b)\n",
    "RHS = (ma.tan(a)+ma.tan(b))/(1-ma.tan(a)*ma.tan(b))\n",
    "\n",
    "print(LHS,RHS)"
   ]
  },
  {
   "cell_type": "code",
   "execution_count": 74,
   "id": "e9fdec92",
   "metadata": {},
   "outputs": [
    {
     "name": "stdout",
     "output_type": "stream",
     "text": [
      "1.0 -1.942890293094024e-16\n"
     ]
    }
   ],
   "source": [
    "# Question29\n",
    "\n",
    "import random\n",
    "import cmath as cma\n",
    "\n",
    "p = random.uniform(1,5)\n",
    "m = random.uniform(1,5)\n",
    "\n",
    "expression = cma.e**(2*m*j*cma.atan(1/p))*((p*j+1)/(p*j-1))**m\n",
    "\n",
    "print(round(expression.real,4),expression.imag)"
   ]
  },
  {
   "cell_type": "code",
   "execution_count": null,
   "id": "76d117a6",
   "metadata": {},
   "outputs": [],
   "source": [
    "# Question30\n",
    "\n",
    "FirstName=input(\"ENTER your FirstNAME: \")\n",
    "LastName = input(\"ENTER your LastNAME: \")\n",
    "\n",
    "print(LastName,FirstName)"
   ]
  },
  {
   "cell_type": "code",
   "execution_count": 43,
   "id": "aed986bf",
   "metadata": {},
   "outputs": [
    {
     "name": "stdout",
     "output_type": "stream",
     "text": [
      "     March 2019\n",
      "Mo Tu We Th Fr Sa Su\n",
      "             1  2  3\n",
      " 4  5  6  7  8  9 10\n",
      "11 12 13 14 15 16 17\n",
      "18 19 20 21 22 23 24\n",
      "25 26 27 28 29 30 31\n",
      "\n"
     ]
    }
   ],
   "source": [
    "# Question31\n",
    "\n",
    "import calendar\n",
    "\n",
    "print(calendar.month(2019,3))"
   ]
  },
  {
   "cell_type": "code",
   "execution_count": 42,
   "id": "3e419934",
   "metadata": {},
   "outputs": [
    {
     "name": "stdout",
     "output_type": "stream",
     "text": [
      "3.1622776601683795 (3+1j)\n",
      "For 3.1622776601683795 Real Part:  3.1623 Imaginary Part:  0.0\n",
      "For (3+1j) Real Part:  3.0 Imaginary Part:  1.0\n"
     ]
    }
   ],
   "source": [
    "# Question32\n",
    "\n",
    "z1 = 4-3j\n",
    "z2 =-1+2j\n",
    "\n",
    "a = abs(z1+z2)\n",
    "b=z1.conjugate()+z2.conjugate()\n",
    "\n",
    "print(a,b)\n",
    "print(\"For\",a,\"Real Part: \",round(a.real,4),\"Imaginary Part: \",round(a.imag,4))\n",
    "print(\"For\",b,\"Real Part: \",round(b.real,4),\"Imaginary Part: \",round(b.imag,4))"
   ]
  },
  {
   "cell_type": "code",
   "execution_count": 37,
   "id": "1a16fdc2",
   "metadata": {},
   "outputs": [
    {
     "name": "stdout",
     "output_type": "stream",
     "text": [
      "Beautiful is better than ugly.\n",
      "Explicit is better than implicit.\n",
      "Simple is better than complex.\n",
      "Complex is better than complicated.\n",
      "Flat is better than nested.\n",
      "Sparse is better than dense.\n",
      "Readability Counts.\n",
      "Special cases aren't special enough to break the rules.\n",
      "Although practicality beats purity.\n",
      "Error should never pass silently.\n",
      "Unless explicitly silenced.\n",
      "In the face of ambiguity, refuse the temptation to guess.\n",
      "There should be one-and preferably only one-obvious way to do it.\n",
      "Although that way may not be obvious at first unless you're Dutch.\n",
      "Now is better than never.\n",
      "Although never is often better than right now.\n",
      "If the implementation is hard to explain, its a bad idea.\n",
      "If the implementation is easy to explain, it may be a good idea.\n",
      "Namespaces are one honking great idea-let's do more of those!\n",
      "\n"
     ]
    }
   ],
   "source": [
    "# Question33\n",
    "\n",
    "print(\n",
    "    \"\"\"Beautiful is better than ugly.\n",
    "Explicit is better than implicit.\n",
    "Simple is better than complex.\n",
    "Complex is better than complicated.\n",
    "Flat is better than nested.\n",
    "Sparse is better than dense.\n",
    "Readability Counts.\n",
    "Special cases aren't special enough to break the rules.\n",
    "Although practicality beats purity.\n",
    "Error should never pass silently.\n",
    "Unless explicitly silenced.\n",
    "In the face of ambiguity, refuse the temptation to guess.\n",
    "There should be one-and preferably only one-obvious way to do it.\n",
    "Although that way may not be obvious at first unless you're Dutch.\n",
    "Now is better than never.\n",
    "Although never is often better than right now.\n",
    "If the implementation is hard to explain, its a bad idea.\n",
    "If the implementation is easy to explain, it may be a good idea.\n",
    "Namespaces are one honking great idea-let's do more of those!\n",
    "\"\"\"\n",
    ")"
   ]
  },
  {
   "cell_type": "code",
   "execution_count": null,
   "id": "e09164dd",
   "metadata": {},
   "outputs": [],
   "source": []
  }
 ],
 "metadata": {
  "kernelspec": {
   "display_name": "Python 3 (ipykernel)",
   "language": "python",
   "name": "python3"
  },
  "language_info": {
   "codemirror_mode": {
    "name": "ipython",
    "version": 3
   },
   "file_extension": ".py",
   "mimetype": "text/x-python",
   "name": "python",
   "nbconvert_exporter": "python",
   "pygments_lexer": "ipython3",
   "version": "3.9.12"
  }
 },
 "nbformat": 4,
 "nbformat_minor": 5
}
