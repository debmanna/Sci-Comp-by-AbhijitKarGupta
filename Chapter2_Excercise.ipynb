{
 "cells": [
  {
   "cell_type": "markdown",
   "id": "eec3e2e7",
   "metadata": {},
   "source": [
    "## Chapter 2"
   ]
  },
  {
   "cell_type": "markdown",
   "id": "8bae050f",
   "metadata": {},
   "source": [
    "### In chapter Excercises"
   ]
  },
  {
   "cell_type": "markdown",
   "id": "ea6086b5",
   "metadata": {},
   "source": [
    "#### $Page - 66$"
   ]
  },
  {
   "cell_type": "code",
   "execution_count": null,
   "id": "0595b615",
   "metadata": {},
   "outputs": [],
   "source": [
    "# Question1\n",
    "\n",
    "print(sum(range(1,1000,2)))"
   ]
  },
  {
   "cell_type": "code",
   "execution_count": null,
   "id": "8fbf35d1",
   "metadata": {},
   "outputs": [],
   "source": [
    "# Question2\n",
    "\n",
    "sumOfSq = 0\n",
    "\n",
    "for i in range(10,501,2):\n",
    "    sumOfSq = sumOfSq + i*i\n",
    "\n",
    "print(sumOfSq)\n",
    "    "
   ]
  },
  {
   "cell_type": "markdown",
   "id": "2f57f70f",
   "metadata": {},
   "source": [
    "## Excercise:"
   ]
  },
  {
   "cell_type": "code",
   "execution_count": null,
   "id": "2be352e3",
   "metadata": {},
   "outputs": [],
   "source": [
    "#Question1\n",
    "import math as ma\n",
    "\n",
    "def volumeSphere(radius):\n",
    "    return 4/3*ma.pi*radius**3\n",
    "\n",
    "f = lambda radius: 4/3*ma.pi*(radius)**3\n",
    "\n",
    "radius = eval(input(\"ENTER the radius of the SPHERE: \"))\n",
    "print(\"1. THE volume of the SPHERE: \",volumeSphere(radius))\n",
    "print(\"2. THE volume of the SPHERE: \",f(radius))"
   ]
  },
  {
   "cell_type": "code",
   "execution_count": null,
   "id": "ba0bc82b",
   "metadata": {},
   "outputs": [],
   "source": [
    "#Question2\n",
    "\n",
    "ma.dist((2,3,5),(-1,2,9))"
   ]
  },
  {
   "cell_type": "code",
   "execution_count": null,
   "id": "8f2f40fa",
   "metadata": {},
   "outputs": [],
   "source": [
    "#Question3\n",
    "import random\n",
    "import math as ma\n",
    "import numpy as np\n",
    "\n",
    "li = [random.randint(28,122) for i in range(10)]\n",
    "\n",
    "print(np.mean(li),np.sqrt(np.mean([x**2 for x in li])))"
   ]
  },
  {
   "cell_type": "code",
   "execution_count": null,
   "id": "97090b79",
   "metadata": {},
   "outputs": [],
   "source": [
    "#Question4\n",
    "import random\n",
    "import numpy as np\n",
    "\n",
    "li = [random.randint(-2,103) for i in range(10)]\n",
    "\n",
    "print(li)\n",
    "print(np.max(li),np.min(li),np.max(li)-np.min(li))"
   ]
  },
  {
   "cell_type": "code",
   "execution_count": null,
   "id": "ccd3e974",
   "metadata": {},
   "outputs": [],
   "source": [
    "#Question5\n",
    "import random\n",
    "\n",
    "def func(li):\n",
    "    \n",
    "    f = lambda x: x<=10 and x>=0\n",
    "    a = list(filter(f,li))\n",
    "    \n",
    "    return len(a)\n",
    "    \n",
    "li = [round(random.uniform(-20,20),1) for i in range(20)]\n",
    "print(\"THE number of Numbers between 0 and 10: \",func(li))"
   ]
  },
  {
   "cell_type": "code",
   "execution_count": null,
   "id": "16a1a083",
   "metadata": {},
   "outputs": [],
   "source": [
    "#Question6\n",
    "\n",
    "def facto(n):\n",
    "    pdt=1\n",
    "    for i in range(1,n+1):\n",
    "        pdt*=i\n",
    "    return pdt\n",
    "\n",
    "print(facto(3))"
   ]
  },
  {
   "cell_type": "code",
   "execution_count": null,
   "id": "61428745",
   "metadata": {},
   "outputs": [],
   "source": [
    "#Question7\n",
    "\n",
    "import math as ma\n",
    "\n",
    "n = 100\n",
    "\n",
    "LHS = ma.log(ma.factorial(n))\n",
    "RHS = n*ma.log(n)-n\n",
    "\n",
    "print(LHS,RHS)"
   ]
  },
  {
   "cell_type": "code",
   "execution_count": null,
   "id": "722787c3",
   "metadata": {},
   "outputs": [],
   "source": [
    "#Question8\n",
    "\n",
    "import cmath as cma\n",
    "\n",
    "z = 2+3j\n",
    "\n",
    "print(cma.log(z))"
   ]
  },
  {
   "cell_type": "code",
   "execution_count": null,
   "id": "a9ea3ba6",
   "metadata": {},
   "outputs": [],
   "source": [
    "#Question9\n",
    "\n",
    "import cmath as cma\n",
    "\n",
    "n = eval(input(\"ENTER the number: \"))\n",
    "\n",
    "for k in range(0,n):\n",
    "    a = complex(0,(2*cma.pi*k/n))\n",
    "    print(round((cma.exp(a)).real,4),\"+\",round((cma.exp(a)).imag,4),\"j\",sep=\"\")"
   ]
  },
  {
   "cell_type": "code",
   "execution_count": null,
   "id": "2cc9cfca",
   "metadata": {},
   "outputs": [],
   "source": [
    "#Question10\n",
    "\n",
    "# use the code for Question9"
   ]
  },
  {
   "cell_type": "code",
   "execution_count": null,
   "id": "661bf15f",
   "metadata": {},
   "outputs": [],
   "source": [
    "#Question11\n",
    "\n",
    "#its a repetition of Question5"
   ]
  },
  {
   "cell_type": "code",
   "execution_count": null,
   "id": "b41034f6",
   "metadata": {},
   "outputs": [],
   "source": [
    "#Question12\n",
    "\n",
    "#its a repetition of Question4"
   ]
  },
  {
   "cell_type": "code",
   "execution_count": null,
   "id": "c56b30f0",
   "metadata": {},
   "outputs": [],
   "source": [
    "#Question13\n",
    "\n",
    "li = [0,1]\n",
    "\n",
    "n = eval(input(\"ENTER n: \"))\n",
    "\n",
    "for i in range(2,n+1):\n",
    "    li.append(li[i-2]+li[i-1])\n",
    "\n",
    "print(li[n])"
   ]
  },
  {
   "cell_type": "code",
   "execution_count": null,
   "id": "e163f79a",
   "metadata": {},
   "outputs": [],
   "source": [
    "#Question14\n",
    "\n",
    "import datetime\n",
    "\n",
    "datetime.date(2019,3,29)-datetime.date(2019,3,18)"
   ]
  },
  {
   "cell_type": "code",
   "execution_count": null,
   "id": "56c60554",
   "metadata": {},
   "outputs": [],
   "source": [
    "#Question15\n",
    "\n",
    "import math as ma\n",
    "\n",
    "def gamma(n):\n",
    "    if(n<=0 or n!=int(n)):\n",
    "        return \"Non Sense Input !\"\n",
    "    \n",
    "    pdt = 1\n",
    "    for i in range(1,n+1):\n",
    "        pdt*=(2*i-1)/2\n",
    "        \n",
    "    return pdt*ma.sqrt(ma.pi)\n",
    "    \n",
    "\n",
    "n = eval(input(\"ENTER the number: \"))\n",
    "\n",
    "print(gamma(n))"
   ]
  },
  {
   "cell_type": "code",
   "execution_count": null,
   "id": "7bfd354c",
   "metadata": {},
   "outputs": [],
   "source": [
    "#Question16\n",
    "\n",
    "n = 5\n",
    "\n",
    "for i in range(1,2*n-3+1):\n",
    "    if(i==1 or i==4 or i==7):\n",
    "        print(\"*****\")\n",
    "    else:\n",
    "        print(\"*\")"
   ]
  },
  {
   "cell_type": "code",
   "execution_count": null,
   "id": "57a8073e",
   "metadata": {},
   "outputs": [],
   "source": [
    "#Question17\n",
    "\n",
    "f = lambda x: (x-1)*(x-2)*(x-3)*(x-4)*(x-5)\n",
    "\n",
    "print(f(6))"
   ]
  },
  {
   "cell_type": "code",
   "execution_count": null,
   "id": "65634cc7",
   "metadata": {},
   "outputs": [],
   "source": [
    "#Question18\n",
    "\n",
    "n = eval(input(\"ENTNTER the number: \"))\n",
    "print(n**1+n**2+n**3+n**4)"
   ]
  },
  {
   "cell_type": "code",
   "execution_count": null,
   "id": "434faea5",
   "metadata": {},
   "outputs": [],
   "source": [
    "#Question19\n",
    "\n",
    "import time\n",
    "\n",
    "start = time.time()\n",
    "\n",
    "n = 40000\n",
    "sum = 0\n",
    "\n",
    "for i in range(1,n+1):\n",
    "    sum=sum+4*(-1)**(i-1)*(1/(2*i-1))\n",
    "    print(round(sum,6))\n",
    "\n",
    "end = time.time()\n",
    "\n",
    "print(\"Run Time:(in secs)\",end-start)"
   ]
  },
  {
   "cell_type": "code",
   "execution_count": null,
   "id": "2146b242",
   "metadata": {},
   "outputs": [],
   "source": [
    "#Question20\n",
    "\n",
    "#repition of Question13"
   ]
  },
  {
   "cell_type": "code",
   "execution_count": null,
   "id": "857d184a",
   "metadata": {},
   "outputs": [],
   "source": [
    "#Question21\n",
    "x=1\n",
    "print(x**3+2*x**2+3*x+4)\n",
    "\n",
    "def f(x):\n",
    "    s =0.0\n",
    "    l = [1,2,3,4]\n",
    "    \n",
    "    for c in l:\n",
    "        s=s*x+c\n",
    "        \n",
    "    return s\n",
    "\n",
    "print(f(x))"
   ]
  },
  {
   "cell_type": "code",
   "execution_count": null,
   "id": "a6d30288",
   "metadata": {},
   "outputs": [],
   "source": [
    "#Question22\n",
    "\n",
    "def func(a,x):\n",
    "    \n",
    "    ans=0;cnt=0\n",
    "    \n",
    "    for i in a:\n",
    "        ans=ans+(i*(x**cnt))\n",
    "        cnt+=1\n",
    "        \n",
    "    return ans\n",
    "\n",
    "func([1,2],3)"
   ]
  },
  {
   "cell_type": "code",
   "execution_count": null,
   "id": "72d004c9",
   "metadata": {},
   "outputs": [],
   "source": [
    "#Question23\n",
    "\n",
    "func([5,0,-7,1],1)"
   ]
  },
  {
   "cell_type": "code",
   "execution_count": null,
   "id": "536d2347",
   "metadata": {},
   "outputs": [],
   "source": []
  }
 ],
 "metadata": {
  "kernelspec": {
   "display_name": "Python 3 (ipykernel)",
   "language": "python",
   "name": "python3"
  },
  "language_info": {
   "codemirror_mode": {
    "name": "ipython",
    "version": 3
   },
   "file_extension": ".py",
   "mimetype": "text/x-python",
   "name": "python",
   "nbconvert_exporter": "python",
   "pygments_lexer": "ipython3",
   "version": "3.9.12"
  }
 },
 "nbformat": 4,
 "nbformat_minor": 5
}
